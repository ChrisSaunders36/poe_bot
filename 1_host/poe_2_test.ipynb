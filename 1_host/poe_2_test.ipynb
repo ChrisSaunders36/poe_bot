{
 "cells": [
  {
   "cell_type": "code",
   "execution_count": null,
   "metadata": {},
   "outputs": [],
   "source": [
    "import sys\n",
    "import time\n",
    "from ast import literal_eval\n",
    "\n",
    "from utils.gamehelper import Poe2Bot"
   ]
  },
  {
   "cell_type": "code",
   "execution_count": null,
   "metadata": {},
   "outputs": [],
   "source": []
  },
  {
   "cell_type": "code",
   "execution_count": 3,
   "metadata": {},
   "outputs": [],
   "source": [
    "notebook_dev = False\n",
    "# readability\n",
    "poe_bot_class = Poe2Bot\n",
    "poe_bot: poe_bot_class"
   ]
  },
  {
   "cell_type": "code",
   "execution_count": null,
   "metadata": {},
   "outputs": [
    {
     "name": "stdout",
     "output_type": "stream",
     "text": [
      "--f=c:\\Users\\1\\AppData\\Roaming\\jupyter\\runtime\\kernel-v2-131005RBHi7HInH4Y.json\n",
      "cannot parse config from cli, using default\\dev one\n",
      "config to run {'REMOTE_IP': '192.168.47.51', 'unique_id': '7d1165934e24534a1ba5', 'force_reset_temp': False}\n"
     ]
    }
   ],
   "source": [
    "default_config = {\n",
    "  \"REMOTE_IP\": \"192.168.47.51\",  # z2\n",
    "  \"unique_id\": \"poe_2_test\",\n",
    "  \"force_reset_temp\": False,\n",
    "}\n",
    "\n",
    "\n",
    "try:\n",
    "  i = sys.argv[1]\n",
    "  print(i)\n",
    "  parsed_config = literal_eval(i)\n",
    "  print(\"successfully parsed cli config\")\n",
    "  print(f\"parsed_config: {parsed_config}\")\n",
    "except:\n",
    "  print(\"cannot parse config from cli, using default\\dev one\")\n",
    "  notebook_dev = True\n",
    "  parsed_config = default_config\n",
    "\n",
    "config = {}\n",
    "\n",
    "for key in default_config.keys():\n",
    "  config[key] = parsed_config.get(key, default_config[key])\n",
    "\n",
    "print(f\"config to run {config}\")"
   ]
  },
  {
   "cell_type": "code",
   "execution_count": null,
   "metadata": {},
   "outputs": [
    {
     "name": "stdout",
     "output_type": "stream",
     "text": [
      "running test using: REMOTE_IP: 192.168.47.51 unique_id: 7d1165934e24534a1ba5  force_reset_temp: False\n"
     ]
    }
   ],
   "source": [
    "REMOTE_IP = config[\"REMOTE_IP\"]  # REMOTE_IP\n",
    "UNIQUE_ID = config[\"unique_id\"]  # unique id\n",
    "force_reset_temp = config[\"force_reset_temp\"]\n",
    "print(f\"running test using: REMOTE_IP: {REMOTE_IP} unique_id: {UNIQUE_ID}  force_reset_temp: {force_reset_temp}\")"
   ]
  },
  {
   "cell_type": "code",
   "execution_count": null,
   "metadata": {},
   "outputs": [
    {
     "name": "stdout",
     "output_type": "stream",
     "text": [
      "[Controller] establishing connection with ('192.168.47.51', 50007)\n",
      "[temp] loaded from file AfkTempData\n",
      "[temp] loaded from file StashTempData\n",
      "[Mover.setMoveType] setting move_type to mouse\n",
      "build is not assigned, using any functions may throw errors\n",
      "poe bot, v: 3.25.15 init at 1739447865.441708\n",
      "[temp] loaded from file StashTempData\n",
      "[poebot] #refreshAll call at 1739447865.4447079\n",
      "[Mover.setMoveType] setting move_type to wasd\n"
     ]
    }
   ],
   "source": [
    "poe_bot = Poe2Bot(unique_id=UNIQUE_ID, remote_ip=REMOTE_IP)\n",
    "poe_bot.refreshAll()\n",
    "poe_bot.game_data.terrain.getCurrentlyPassableArea()\n",
    "# TODO move it to poe_bot.refreshAll() refreshed_data[\"c_t\"] ## \"c_t\":0 - mouse || \"c_t\":1 - wasd\n",
    "poe_bot.mover.setMoveType(\"wasd\")\n"
   ]
  },
  {
   "cell_type": "code",
   "execution_count": null,
   "metadata": {},
   "outputs": [],
   "source": []
  },
  {
   "cell_type": "code",
   "execution_count": 7,
   "metadata": {},
   "outputs": [
    {
     "ename": "TypeError",
     "evalue": "exceptions must derive from BaseException",
     "output_type": "error",
     "traceback": [
      "\u001b[1;31m---------------------------------------------------------------------------\u001b[0m",
      "\u001b[1;31mTypeError\u001b[0m                                 Traceback (most recent call last)",
      "Cell \u001b[1;32mIn[7], line 1\u001b[0m\n\u001b[1;32m----> 1\u001b[0m \u001b[38;5;28;01mraise\u001b[39;00m \u001b[38;5;241m404\u001b[39m\n",
      "\u001b[1;31mTypeError\u001b[0m: exceptions must derive from BaseException"
     ]
    }
   ],
   "source": [
    "raise 404\n"
   ]
  },
  {
   "cell_type": "code",
   "execution_count": null,
   "metadata": {},
   "outputs": [],
   "source": [
    "from utils.combat import TempestFlurryBuild\n",
    "\n",
    "poe_bot.combat_module.build = TempestFlurryBuild(poe_bot)\n",
    "poe_bot.mover.default_continue_function = poe_bot.combat_module.build.usualRoutine\n"
   ]
  },
  {
   "cell_type": "code",
   "execution_count": null,
   "metadata": {},
   "outputs": [],
   "source": [
    "poe_bot.refreshInstanceData()\n",
    "alva_entity = next((e for e in poe_bot.game_data.entities.all_entities if e.render_name == \"Alva\"))\n",
    "poe_bot.mover.goToEntitysPoint(alva_entity, release_mouse_on_end=False)\n",
    "danning_entity = next((e for e in poe_bot.game_data.entities.all_entities if e.render_name == \"Dannig\"))\n",
    "poe_bot.mover.goToEntitysPoint(danning_entity, release_mouse_on_end=True)\n"
   ]
  },
  {
   "cell_type": "code",
   "execution_count": null,
   "metadata": {},
   "outputs": [],
   "source": [
    "raise 404"
   ]
  },
  {
   "cell_type": "code",
   "execution_count": null,
   "metadata": {},
   "outputs": [],
   "source": [
    "poe_bot.ui.auction_house.open()\n"
   ]
  },
  {
   "cell_type": "code",
   "execution_count": null,
   "metadata": {},
   "outputs": [],
   "source": [
    "poe_bot.ui.auction_house.update()\n"
   ]
  },
  {
   "cell_type": "code",
   "execution_count": null,
   "metadata": {},
   "outputs": [],
   "source": []
  },
  {
   "cell_type": "code",
   "execution_count": 8,
   "metadata": {},
   "outputs": [
    {
     "name": "stdout",
     "output_type": "stream",
     "text": [
      "[ui.Stash.open] call 1739447876.7379527\n",
      "no items getOpenedStashInfo\n",
      "[ui.Stash.open] opening stash_box: {'ls': [517, 410], 'p': 'Metadata/MiscellaneousObjects/Stash', 'i': 18, 't': 1, 'b': 1, 'gp': [347, 526], 'wp': [3803, 4064, -18], 'rn': 'Stash', 'et': 'Stash', 'distance_to_player': 14.866068747318504}\n",
      "no items getOpenedStashInfo\n",
      "no items getOpenedStashInfo\n",
      "updateTabInfo for tab with index 1\n",
      "updating stash tab with index 1\n",
      "no items getOpenedStashInfo\n",
      "updateTabInfo for tab with index 1\n",
      "updating stash tab with index 1\n",
      "stash.openTabIndex 1 == 1\n"
     ]
    }
   ],
   "source": [
    "from utils.constants import OILS_BY_TIERS\n",
    "\n",
    "stash = poe_bot.ui.stash\n",
    "auction_house = poe_bot.ui.auction_house\n",
    "\n",
    "oil_items = [item for item in poe_bot.ui.stash.getAllItems() if item.name in OILS_BY_TIERS]\n",
    "stash_tab_indexes_with_oils = list({item.tab_index for item in oil_items})\n",
    "\n",
    "poe_bot.ui.stash.open()\n",
    "for i in stash_tab_indexes_with_oils:\n",
    "  poe_bot.ui.stash.openTabIndex(i)\n",
    "poe_bot.ui.closeAll()\n"
   ]
  },
  {
   "cell_type": "code",
   "execution_count": null,
   "metadata": {},
   "outputs": [],
   "source": [
    "poe_bot.ui.auction_house.open()\n",
    "auction_house.i_have_button.click()\n",
    "while auction_house.currency_picker.visible is False:\n",
    "  time.sleep(0.3)\n",
    "  auction_house.update()\n",
    "  print(\"waiting till auction_house.currency_picker.visible == False\")\n",
    "auction_house.currency_picker.openCategory(\"Delirium\")\n",
    "time.sleep(1)\n",
    "auction_house.update()\n",
    "\n",
    "list_of_oils_we_can_get = list(filter(lambda el: el.text in OILS_BY_TIERS, auction_house.currency_picker.presented_elements))"
   ]
  },
  {
   "cell_type": "code",
   "execution_count": null,
   "metadata": {},
   "outputs": [],
   "source": []
  },
  {
   "cell_type": "code",
   "execution_count": null,
   "metadata": {},
   "outputs": [],
   "source": [
    "# auction_house.i_have_button.click()\n",
    "auction_house.currency_picker.openCategory(\"Currency\")\n",
    "auction_house.currency_picker.clickElementWithText(\"Exalted Orb\")\n",
    "# TODO currencypicker supposed to be not visible"
   ]
  },
  {
   "cell_type": "code",
   "execution_count": null,
   "metadata": {},
   "outputs": [
    {
     "name": "stdout",
     "output_type": "stream",
     "text": [
      "ratios are [[3.17, 1.0, 95], [3.11, 1.0, 196], [3.1, 1.0, 496], [3.08, 1.0, 2000], [3.02, 1.0, 1812]] [[1.0, 3.33, 15], [1.0, 3.5, 115], [1.0, 3.5, 322], [1.0, 3.5, 891], [1.0, 3.8, 4335]]\n",
      "gonna sell Distilled Ire, 372 for 120 ex\n",
      "ratios are [[1.11, 1.0, 2190], [1.1, 1.0, 408], [1.1, 1.0, 429], [1.09, 1.0, 1380], [1.09, 1.0, 1268]] [[1.0, 1.2, 10], [1.0, 1.24, 50], [1.0, 1.28, 470], [1.0, 1.28, 75], [1.0, 1.29, 900]]\n",
      "gonna sell Distilled Guilt, 187 for 170 ex\n",
      "ratios are [[2.0, 1.0, 290], [1.85, 1.0, 97], [1.85, 1.0, 370], [1.8, 1.0, 992], [1.79, 1.0, 170]] [[1.0, 2.3, 10], [1.0, 2.4, 1180], [1.0, 2.44, 1107], [1.0, 2.45, 280], [1.0, 2.46, 900]]\n",
      "gonna sell Distilled Greed, 96 for 48 ex\n",
      "ratios are [[1.0, 2.15, 85], [1.0, 2.17, 83], [1.0, 2.2, 142], [1.0, 2.25, 952], [1.0, 2.33, 200]] [[1.96, 1.0, 686], [1.95, 1.0, 3336], [1.93, 1.0, 2328], [1.92, 1.0, 77], [1.91, 1.0, 1001]]\n",
      "gonna sell Distilled Paranoia, 49 for 105 ex\n",
      "ratios are [[1.11, 1.0, 50], [1.1, 1.0, 170], [1.05, 1.0, 1869], [1.02, 1.0, 48], [1.01, 1.0, 338]] [[1.0, 1.7, 3100], [1.0, 1.74, 1000], [1.0, 1.75, 804], [1.0, 1.8, 945], [1.0, 1.82, 55]]\n",
      "gonna sell Distilled Envy, 132 for 120 ex\n",
      "ratios are [[1.0, 2.88, 32], [1.0, 3.0, 110], [1.0, 3.2, 500], [1.0, 3.23, 78], [1.0, 3.24, 51]] [[2.8, 1.0, 280], [2.75, 1.0, 242], [2.7, 1.0, 370], [2.67, 1.0, 8], [2.6, 1.0, 2756]]\n",
      "gonna sell Distilled Disgust, 10 for 28 ex\n",
      "skipping  Distilled Disgust cos income less than 40\n",
      "ratios are [[1.0, 4.13, 15], [1.0, 4.17, 30], [1.0, 4.2, 5], [1.0, 4.36, 11], [1.0, 4.86, 14]] [[4.07, 1.0, 770], [4.0, 1.0, 8], [3.0, 1.0, 9987], [2.6, 1.0, 910], [2.5, 1.0, 65]]\n",
      "gonna sell Distilled Despair, 24 for 99 ex\n",
      "ratios are [[1.0, 13.5, 82], [1.0, 13.64, 11], [1.0, 14.0, 538], [1.0, 14.29, 7], [1.0, 15.0, 147]] [[12.1, 1.0, 254], [11.89, 1.0, 1035], [11.5, 1.0, 1104], [11.0, 1.0, 2156], [10.5, 1.0, 21]]\n",
      "gonna sell Distilled Fear, 28 for 378 ex\n"
     ]
    },
    {
     "ename": "AttributeError",
     "evalue": "'AuctionHouseUiCurrencyPickerElements' object has no attribute 'name'",
     "output_type": "error",
     "traceback": [
      "\u001b[1;31m---------------------------------------------------------------------------\u001b[0m",
      "\u001b[1;31mAttributeError\u001b[0m                            Traceback (most recent call last)",
      "Cell \u001b[1;32mIn[11], line 25\u001b[0m\n\u001b[0;32m     21\u001b[0m \u001b[38;5;28;01mfor\u001b[39;00m oil_type \u001b[38;5;129;01min\u001b[39;00m list_of_oils_we_can_get:\n\u001b[0;32m     22\u001b[0m \u001b[38;5;66;03m# for oil_type in list_of_oils_we_can_get[1:2]:\u001b[39;00m\n\u001b[0;32m     23\u001b[0m   \u001b[38;5;66;03m# check if orderbook is full, if full -> collect all orderesbreak\u001b[39;00m\n\u001b[0;32m     24\u001b[0m   \u001b[38;5;28;01mif\u001b[39;00m oil_type\u001b[38;5;241m.\u001b[39mcount \u001b[38;5;241m<\u001b[39m \u001b[38;5;241m10\u001b[39m:\n\u001b[1;32m---> 25\u001b[0m     \u001b[38;5;28mprint\u001b[39m(\u001b[38;5;124mf\u001b[39m\u001b[38;5;124m\"\u001b[39m\u001b[38;5;124mskipping \u001b[39m\u001b[38;5;132;01m{\u001b[39;00moil_type\u001b[38;5;241m.\u001b[39mname\u001b[38;5;132;01m}\u001b[39;00m\u001b[38;5;124m cos < 10 count\u001b[39m\u001b[38;5;124m\"\u001b[39m)\n\u001b[0;32m     26\u001b[0m     \u001b[38;5;28;01mcontinue\u001b[39;00m\n\u001b[0;32m     28\u001b[0m   auction_house\u001b[38;5;241m.\u001b[39mi_want_button\u001b[38;5;241m.\u001b[39mclick()\n",
      "\u001b[1;31mAttributeError\u001b[0m: 'AuctionHouseUiCurrencyPickerElements' object has no attribute 'name'"
     ]
    }
   ],
   "source": [
    "def getMarketRatios():\n",
    "  for i in range(10):\n",
    "    time.sleep(0.3)\n",
    "    auction_house.update()\n",
    "    if auction_house.market_ratios != []:\n",
    "      break\n",
    "  return auction_house.market_ratios\n",
    "\n",
    "\n",
    "ok_decimals = [0.0, 0.1, 0.25, 0.5, 0.75]\n",
    "multipliers = [1, 10, 4, 2, 4]\n",
    "\n",
    "\n",
    "def findNearestDecimal(rate, limit):\n",
    "  frac_part = rate % 1\n",
    "  num_part = int(rate)\n",
    "  ok_decimals_inner = list(filter(lambda el: num_part + el < limit, ok_decimals))\n",
    "  closest = min(ok_decimals_inner, key=lambda x: abs(x - frac_part))\n",
    "  closest_index = ok_decimals.index(closest)\n",
    "  return [num_part + closest, closest_index]\n",
    "\n",
    "\n",
    "min_ex_trade = 40\n",
    "# for each oil we can sell\n",
    "for oil_type in list_of_oils_we_can_get:\n",
    "  # for oil_type in list_of_oils_we_can_get[1:2]:\n",
    "  # check if orderbook is full, if full -> collect all orderesbreak\n",
    "  if oil_type.count < 10:\n",
    "    print(f\"skipping {oil_type.name} cos < 10 count\")\n",
    "    continue\n",
    "\n",
    "  auction_house.i_want_button.click()\n",
    "  auction_house.currency_picker.openCategory(\"Delirium\")\n",
    "  auction_house.currency_picker.clickElementWithText(oil_type.text)\n",
    "  # TODO currencypicker supposed to be not visible\n",
    "  price_ratios_buy = getMarketRatios()\n",
    "  auction_house.i_want_button.click(hold_ctrl=True)  # reverse our trading\n",
    "  price_ratios_sell = getMarketRatios()\n",
    "\n",
    "  # TODO find average ratio to sell, its supposed to be avg around the market\n",
    "  # basically we are going to sell for the cheapest price\n",
    "  print(f\"ratios are {price_ratios_buy} {price_ratios_sell}\")\n",
    "  give_oil_rate = price_ratios_buy[0][0]\n",
    "  take_ex_rate = price_ratios_buy[0][1]\n",
    "  give_oil_rate, take_ex_rate\n",
    "  oils_to_give = oil_type.count\n",
    "  ex_to_take = 0\n",
    "  if give_oil_rate > 1:\n",
    "    opt_rate, closest_index = findNearestDecimal(give_oil_rate, price_ratios_sell[0][1])\n",
    "    bulk_size = opt_rate * multipliers[closest_index]\n",
    "    bulks_count = int(oil_type.count / bulk_size)\n",
    "    oils_to_give = int(bulk_size * bulks_count)\n",
    "    ex_to_take = int(bulks_count * multipliers[closest_index])\n",
    "\n",
    "  else:\n",
    "    ex_to_take = int(oil_type.count * take_ex_rate)\n",
    "  print(f\"gonna sell {oil_type.text}, {oils_to_give} for {ex_to_take} ex\")\n",
    "  if ex_to_take < min_ex_trade:\n",
    "    print(f\"skipping  {oil_type.text} cos income less than 40\")\n",
    "    auction_house.i_want_button.click(hold_ctrl=True)  # reverse our trading\n",
    "    continue\n",
    "  # set values\n",
    "  # check if values are correct\n",
    "  # auction_house.setFieldValue(auction_house.i_have_field, oils_to_give)\n",
    "  # auction_house.setFieldValue(auction_house.i_want_field, ex_to_take)\n",
    "  auction_house.setHaveValue(oils_to_give)\n",
    "  auction_house.setWantValue(ex_to_take)\n",
    "\n",
    "  # check if we have enough gold, else break\n",
    "  if auction_house.gold < auction_house.deal_price:\n",
    "    break\n",
    "  # place order\n",
    "  auction_house.i_want_field.click()\n",
    "  input(\"test\")\n",
    "  auction_house.place_order_button.click()\n",
    "\n",
    "  auction_house.i_want_button.click(hold_ctrl=True)  # reverse our trading back\n"
   ]
  },
  {
   "cell_type": "code",
   "execution_count": null,
   "metadata": {},
   "outputs": [],
   "source": [
    "raise 404"
   ]
  },
  {
   "cell_type": "code",
   "execution_count": null,
   "metadata": {},
   "outputs": [],
   "source": [
    "price_ratios_sell[0][1]"
   ]
  },
  {
   "cell_type": "code",
   "execution_count": null,
   "metadata": {},
   "outputs": [],
   "source": [
    "ok_decimals = [0.0, 0.1, 0.25, 0.50, 0.75]\n",
    "give_oil_rate = 3.38"
   ]
  },
  {
   "cell_type": "code",
   "execution_count": null,
   "metadata": {},
   "outputs": [],
   "source": [
    "give_oil_rate"
   ]
  },
  {
   "cell_type": "code",
   "execution_count": null,
   "metadata": {},
   "outputs": [],
   "source": [
    "ok_decimals = [0.0, 0.1, 0.25, 0.5, 0.75]\n",
    "multipliers = [1, 10, 4, 2, 4]\n",
    "\n",
    "\n",
    "def findNearestDecimal(rate, limit):\n",
    "  frac_part = rate % 1\n",
    "  num_part = int(rate)\n",
    "  ok_decimals_inner = list(filter(lambda el: num_part + el < limit, ok_decimals))\n",
    "  closest = min(ok_decimals_inner, key=lambda x: abs(x - frac_part))\n",
    "  closest_index = ok_decimals.index(closest)\n",
    "  return [num_part + closest, closest_index]\n",
    "\n",
    "\n",
    "findNearestDecimal(3.38, 3.5)\n",
    "opt_rate, closest_index = findNearestDecimal(give_oil_rate, price_ratios_sell[0][1])\n",
    "bulk_size = opt_rate * multipliers[closest_index]\n",
    "bulks_count = int(oil_type.count / bulk_size)\n",
    "oils_to_give = int(bulk_size * bulks_count)\n",
    "ex_to_take = int(bulks_count * multipliers[closest_index])"
   ]
  },
  {
   "cell_type": "code",
   "execution_count": null,
   "metadata": {},
   "outputs": [],
   "source": []
  },
  {
   "cell_type": "code",
   "execution_count": null,
   "metadata": {},
   "outputs": [],
   "source": [
    "oils_to_give = int(oils_to_give * multipliers[closest_index])\n",
    "ex_to_take = int(oil_type.count // multipliers[closest_index])"
   ]
  },
  {
   "cell_type": "code",
   "execution_count": null,
   "metadata": {},
   "outputs": [],
   "source": [
    "opt_rate"
   ]
  },
  {
   "cell_type": "code",
   "execution_count": null,
   "metadata": {},
   "outputs": [],
   "source": [
    "485 // multipliers[closest_index]\n",
    "# 121 * multipliers[closest_index]"
   ]
  },
  {
   "cell_type": "code",
   "execution_count": null,
   "metadata": {},
   "outputs": [],
   "source": [
    "batches_count = int(285 / multipliers[closest_index])\n",
    "oils_to_give = batches_count * multipliers[closest_index]\n",
    "280 / 1.1\n"
   ]
  },
  {
   "cell_type": "code",
   "execution_count": null,
   "metadata": {},
   "outputs": [],
   "source": [
    "285 // 1.1"
   ]
  },
  {
   "cell_type": "code",
   "execution_count": null,
   "metadata": {},
   "outputs": [],
   "source": [
    "259 / 1.1"
   ]
  },
  {
   "cell_type": "code",
   "execution_count": null,
   "metadata": {},
   "outputs": [],
   "source": [
    "oil_type.count"
   ]
  },
  {
   "cell_type": "code",
   "execution_count": null,
   "metadata": {},
   "outputs": [],
   "source": [
    "600 // opt_rate"
   ]
  },
  {
   "cell_type": "code",
   "execution_count": null,
   "metadata": {},
   "outputs": [],
   "source": [
    "184 * opt_rate"
   ]
  },
  {
   "cell_type": "code",
   "execution_count": null,
   "metadata": {},
   "outputs": [],
   "source": [
    "# List of acceptable decimal values\n",
    "ok_decimals = [0.0, 0.1, 0.25, 0.5, 0.75]\n",
    "\n",
    "# Given oil rate\n",
    "give_oil_rate = 3.38\n",
    "\n",
    "\n",
    "# Function to find the closest decimal value\n",
    "def closest_decimal_rate(rate, decimals):\n",
    "  # Find the fractional part of the given rate\n",
    "  frac_part = rate % 1\n",
    "  # Find the closest decimal value\n",
    "  closest = min(decimals, key=lambda x: abs(x - frac_part))\n",
    "  return closest\n",
    "\n",
    "\n",
    "# Calculate the closest decimal value\n",
    "closest_decimal = closest_decimal_rate(give_oil_rate, ok_decimals)\n",
    "\n",
    "# Output the closest decimal oil rate\n",
    "closest_oil_rate = int(give_oil_rate) + closest_decimal\n",
    "closest_oil_rate"
   ]
  },
  {
   "cell_type": "code",
   "execution_count": null,
   "metadata": {},
   "outputs": [],
   "source": [
    "oil_type.count"
   ]
  },
  {
   "cell_type": "code",
   "execution_count": null,
   "metadata": {},
   "outputs": [],
   "source": [
    "time.sleep(0.3)\n",
    "auction_house.update()"
   ]
  },
  {
   "cell_type": "code",
   "execution_count": null,
   "metadata": {},
   "outputs": [],
   "source": [
    "price_ratios_buy, price_ratios_sell"
   ]
  },
  {
   "cell_type": "code",
   "execution_count": null,
   "metadata": {},
   "outputs": [],
   "source": []
  },
  {
   "cell_type": "code",
   "execution_count": null,
   "metadata": {},
   "outputs": [],
   "source": [
    "num_is_integer = False\n",
    "oil_count = oil_type.count\n",
    "while num_is_integer is False and oil_count > 0:\n",
    "  oils_can_sell = oil_count / give_oil_rate\n",
    "  num_is_integer = oils_can_sell.is_integer()\n",
    "  oil_count -= 1"
   ]
  },
  {
   "cell_type": "code",
   "execution_count": null,
   "metadata": {},
   "outputs": [],
   "source": [
    "oil_type.count"
   ]
  },
  {
   "cell_type": "code",
   "execution_count": null,
   "metadata": {},
   "outputs": [],
   "source": []
  },
  {
   "cell_type": "code",
   "execution_count": null,
   "metadata": {},
   "outputs": [],
   "source": [
    "num_is_integer = False\n",
    "oil_count = oil_type.count\n",
    "while num_is_integer is False and oil_count > 0:\n",
    "  oils_can_sell = oil_count / give_oil_rate\n",
    "  print(f\"{oil_count} / {give_oil_rate} = {oils_can_sell}\")\n",
    "  num_is_integer = oils_can_sell.is_integer()\n",
    "  oil_count -= 1"
   ]
  },
  {
   "cell_type": "code",
   "execution_count": null,
   "metadata": {},
   "outputs": [],
   "source": [
    "oils_can_sell"
   ]
  },
  {
   "cell_type": "code",
   "execution_count": null,
   "metadata": {},
   "outputs": [],
   "source": [
    "oils_can_sell = 14.5"
   ]
  },
  {
   "cell_type": "code",
   "execution_count": null,
   "metadata": {},
   "outputs": [],
   "source": [
    "oils_can_sell.is_integer()"
   ]
  },
  {
   "cell_type": "code",
   "execution_count": null,
   "metadata": {},
   "outputs": [],
   "source": [
    "give_oil_rate"
   ]
  },
  {
   "cell_type": "code",
   "execution_count": null,
   "metadata": {},
   "outputs": [],
   "source": [
    "take_ex_rate"
   ]
  },
  {
   "cell_type": "code",
   "execution_count": null,
   "metadata": {},
   "outputs": [],
   "source": [
    "oil_type.count, give_oil_rate"
   ]
  },
  {
   "cell_type": "code",
   "execution_count": null,
   "metadata": {},
   "outputs": [],
   "source": [
    "(251, 2.85)"
   ]
  },
  {
   "cell_type": "code",
   "execution_count": null,
   "metadata": {},
   "outputs": [],
   "source": [
    "oil_type.count % 2.85\n"
   ]
  },
  {
   "cell_type": "code",
   "execution_count": null,
   "metadata": {},
   "outputs": [],
   "source": []
  },
  {
   "cell_type": "code",
   "execution_count": null,
   "metadata": {},
   "outputs": [],
   "source": [
    "88 * 2.85"
   ]
  },
  {
   "cell_type": "code",
   "execution_count": null,
   "metadata": {},
   "outputs": [],
   "source": [
    "oil_type.count - oil_type.count % give_oil_rate"
   ]
  },
  {
   "cell_type": "code",
   "execution_count": null,
   "metadata": {},
   "outputs": [],
   "source": [
    "price_ratios_sell"
   ]
  },
  {
   "cell_type": "code",
   "execution_count": null,
   "metadata": {},
   "outputs": [],
   "source": [
    "price_ratios_buy\n"
   ]
  },
  {
   "cell_type": "code",
   "execution_count": null,
   "metadata": {},
   "outputs": [],
   "source": [
    "(3.17 * 2 + 2.9) / 3"
   ]
  },
  {
   "cell_type": "code",
   "execution_count": null,
   "metadata": {},
   "outputs": [],
   "source": [
    "raise 404"
   ]
  },
  {
   "cell_type": "code",
   "execution_count": null,
   "metadata": {},
   "outputs": [],
   "source": [
    "poe_bot.refreshInstanceData()\n",
    "poe_bot.ui.stash.open()\n",
    "poe_bot.ui.stash.updateStashTemp()"
   ]
  },
  {
   "cell_type": "code",
   "execution_count": null,
   "metadata": {},
   "outputs": [],
   "source": []
  },
  {
   "cell_type": "code",
   "execution_count": null,
   "metadata": {},
   "outputs": [],
   "source": [
    "arr = [\"  1 : 3\", \"85\", \"  1 : 3.33\", \"200\", \"  1 : 3.40\", \"200\", \"  1 : 3.50\", \"26,602\", \"  1 : 3.55\", \"2,000\", \"< 1 : 3.55\", \"321,151\"]\n",
    "arr[::2]\n",
    "\n",
    "for index in range(0, len(arr), 2):\n",
    "  ratio = arr[index]\n",
    "  if \"<\" in ratio:\n",
    "    continue\n",
    "  amount = int(arr[index + 1].replace(\",\", \"\"))\n",
    "  take = float(ratio.split(\":\")[0])\n",
    "  give = float(ratio.split(\":\")[1])\n",
    "  print(f\"{take} {give} {amount}\")\n"
   ]
  },
  {
   "cell_type": "code",
   "execution_count": null,
   "metadata": {},
   "outputs": [],
   "source": [
    "class Dummy:\n",
    "  def a(self):\n",
    "    print(\"a\")\n",
    "\n",
    "\n",
    "d = Dummy()\n",
    "d.a()\n",
    "\n",
    "\n",
    "def b():\n",
    "  d.a()\n",
    "  print(\"b\")\n",
    "\n",
    "\n",
    "d.a = b\n",
    "\n",
    "d.a()"
   ]
  }
 ],
 "metadata": {
  "kernelspec": {
   "display_name": "Python 3",
   "language": "python",
   "name": "python3"
  },
  "language_info": {
   "codemirror_mode": {
    "name": "ipython",
    "version": 3
   },
   "file_extension": ".py",
   "mimetype": "text/x-python",
   "name": "python",
   "nbconvert_exporter": "python",
   "pygments_lexer": "ipython3",
   "version": "3.8.10"
  },
  "orig_nbformat": 4,
  "vscode": {
   "interpreter": {
    "hash": "9a77788ff6b86baaa40baa2ee0d4965d2ef3f4c5f9e8f753fc08e7b362f3103b"
   }
  }
 },
 "nbformat": 4,
 "nbformat_minor": 2
}
